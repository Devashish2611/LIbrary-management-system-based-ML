{
 "cells": [
  {
   "cell_type": "markdown",
   "id": "aa114cf2-fe52-40be-9092-0867f993d23f",
   "metadata": {},
   "source": [
    "<table align=\"center\" width=100%>\n",
    "    <tr>\n",
    "        </td>\n",
    "            </td>\n",
    "        </td>\n",
    "        <td>\n",
    "            <div align=\"center\">\n",
    "                <font color=\"#21618C\" size=8px>\n",
    "                    <b> LIBRARY MANAGEMENT SYSTEM\n",
    "                    </b>\n",
    "                </font>\n",
    "            </div>\n",
    "        </td>\n",
    "    </tr>\n",
    "</table>"
   ]
  },
  {
   "cell_type": "markdown",
   "id": "caeb4efc-19ed-40fc-99d6-1114a2b6ffa0",
   "metadata": {},
   "source": [
    "# PROBLEM STATEMENT\n",
    "This is a machine learning model which predict whether a user will return a borrowed book on its due date or not. The model will use features such as user ID, gender, borrow date, due date, and return status. The goal is to generate a synthetic dataset of 1000 students, preprocess the data, train a classifier, and evaluate its performance."
   ]
  },
  {
   "cell_type": "markdown",
   "id": "6533d841-ea6e-43eb-b598-5396aae8660b",
   "metadata": {},
   "source": [
    "# Data Dictionary\n",
    "The dataset contains 1000 observations of book borrowing records from different users. For each borrowing record, data on various variables that may influence the likelihood of returning the book on its due date are available."
   ]
  },
  {
   "cell_type": "markdown",
   "id": "c429582b-15ca-413a-99bf-7886a598c139",
   "metadata": {},
   "source": [
    "## About the dataset (Book return prediction data) \n",
    "\n",
    "**Enroll_id:** it shows the enrollment id of student \n",
    "\n",
    "**Gender:** it is gender of student\n",
    "\n",
    "**Item_id:** it shows the id of book\n",
    "\n",
    "**Title:** it shows the title of book\n",
    "\n",
    "**Borrow_date:** it is borrow date of book\n",
    "\n",
    "**Due_date:** it is due date of book\n",
    "\n",
    "**Return_status:** it shows the status of book retuns status "
   ]
  },
  {
   "cell_type": "code",
   "execution_count": 1,
   "id": "af810554-d40d-44ed-9a23-e9e8caa1baaa",
   "metadata": {},
   "outputs": [],
   "source": [
    "import pandas as pd\n",
    "from sklearn.model_selection import train_test_split\n",
    "from sklearn.preprocessing import LabelEncoder\n",
    "from sklearn.ensemble import RandomForestClassifier\n",
    "from sklearn.metrics import accuracy_score, precision_score, recall_score, f1_score"
   ]
  },
  {
   "cell_type": "code",
   "execution_count": 2,
   "id": "dc271fe5-c4e1-4eed-b65b-ae0bcfb96b9c",
   "metadata": {},
   "outputs": [
    {
     "data": {
      "text/html": [
       "<div>\n",
       "<style scoped>\n",
       "    .dataframe tbody tr th:only-of-type {\n",
       "        vertical-align: middle;\n",
       "    }\n",
       "\n",
       "    .dataframe tbody tr th {\n",
       "        vertical-align: top;\n",
       "    }\n",
       "\n",
       "    .dataframe thead th {\n",
       "        text-align: right;\n",
       "    }\n",
       "</style>\n",
       "<table border=\"1\" class=\"dataframe\">\n",
       "  <thead>\n",
       "    <tr style=\"text-align: right;\">\n",
       "      <th></th>\n",
       "      <th>enroll_id</th>\n",
       "      <th>gender</th>\n",
       "      <th>item_id</th>\n",
       "      <th>title</th>\n",
       "      <th>borrow_date</th>\n",
       "      <th>due_date</th>\n",
       "      <th>return_status</th>\n",
       "    </tr>\n",
       "  </thead>\n",
       "  <tbody>\n",
       "    <tr>\n",
       "      <th>0</th>\n",
       "      <td>152f2dbb-c357-4de7-b497-cd54084790a9</td>\n",
       "      <td>Female</td>\n",
       "      <td>0-9526883-3-6</td>\n",
       "      <td>Rather rule present.</td>\n",
       "      <td>2022-07-12</td>\n",
       "      <td>2022-07-22</td>\n",
       "      <td>no</td>\n",
       "    </tr>\n",
       "    <tr>\n",
       "      <th>1</th>\n",
       "      <td>3cc17e7e-3fd2-488a-bd11-04aa7ad394a1</td>\n",
       "      <td>Female</td>\n",
       "      <td>0-88527-259-5</td>\n",
       "      <td>Although mind fish.</td>\n",
       "      <td>2023-10-24</td>\n",
       "      <td>2023-11-10</td>\n",
       "      <td>no</td>\n",
       "    </tr>\n",
       "    <tr>\n",
       "      <th>2</th>\n",
       "      <td>f37aa976-f4a6-4c19-93b9-c4250c706a82</td>\n",
       "      <td>Female</td>\n",
       "      <td>1-07-391819-X</td>\n",
       "      <td>Picture science include.</td>\n",
       "      <td>2023-10-17</td>\n",
       "      <td>2023-11-01</td>\n",
       "      <td>yes</td>\n",
       "    </tr>\n",
       "    <tr>\n",
       "      <th>3</th>\n",
       "      <td>f2380bee-3466-41e8-9135-e4d4c0c4102e</td>\n",
       "      <td>Female</td>\n",
       "      <td>0-690-39532-9</td>\n",
       "      <td>Last push.</td>\n",
       "      <td>2024-05-14</td>\n",
       "      <td>2024-05-25</td>\n",
       "      <td>yes</td>\n",
       "    </tr>\n",
       "    <tr>\n",
       "      <th>4</th>\n",
       "      <td>30165869-86a3-4854-8680-543c3a85c541</td>\n",
       "      <td>Female</td>\n",
       "      <td>1-5010-9527-7</td>\n",
       "      <td>House people evidence.</td>\n",
       "      <td>2022-08-23</td>\n",
       "      <td>2022-09-09</td>\n",
       "      <td>yes</td>\n",
       "    </tr>\n",
       "  </tbody>\n",
       "</table>\n",
       "</div>"
      ],
      "text/plain": [
       "                              enroll_id  gender        item_id  \\\n",
       "0  152f2dbb-c357-4de7-b497-cd54084790a9  Female  0-9526883-3-6   \n",
       "1  3cc17e7e-3fd2-488a-bd11-04aa7ad394a1  Female  0-88527-259-5   \n",
       "2  f37aa976-f4a6-4c19-93b9-c4250c706a82  Female  1-07-391819-X   \n",
       "3  f2380bee-3466-41e8-9135-e4d4c0c4102e  Female  0-690-39532-9   \n",
       "4  30165869-86a3-4854-8680-543c3a85c541  Female  1-5010-9527-7   \n",
       "\n",
       "                      title borrow_date    due_date return_status  \n",
       "0      Rather rule present.  2022-07-12  2022-07-22            no  \n",
       "1       Although mind fish.  2023-10-24  2023-11-10            no  \n",
       "2  Picture science include.  2023-10-17  2023-11-01           yes  \n",
       "3                Last push.  2024-05-14  2024-05-25           yes  \n",
       "4    House people evidence.  2022-08-23  2022-09-09           yes  "
      ]
     },
     "execution_count": 2,
     "metadata": {},
     "output_type": "execute_result"
    }
   ],
   "source": [
    "# Sample Data Loading\n",
    "data = pd.read_csv('students_borrowing_data1.csv') # Assume this CSV contains your dataset\n",
    "data.head()\n"
   ]
  },
  {
   "cell_type": "code",
   "execution_count": 3,
   "id": "2fe18394-2912-4c3c-a7aa-5b534e116e52",
   "metadata": {},
   "outputs": [],
   "source": [
    "date_format = '%Y-%m-%d'\n",
    "\n",
    "# Parse the dates with a specified format\n",
    "data['borrow_date'] = pd.to_datetime(data['borrow_date'], format=date_format)\n",
    "data['due_date'] = pd.to_datetime(data['due_date'], format=date_format)"
   ]
  },
  {
   "cell_type": "code",
   "execution_count": 4,
   "id": "20bf691e-3c42-43a0-96c6-3ca0e6cfe96b",
   "metadata": {},
   "outputs": [],
   "source": [
    "# Feature Engineering\n",
    "data['borrow_date'] = pd.to_datetime(data['borrow_date'])\n",
    "data['due_date'] = pd.to_datetime(data['due_date'])\n",
    "data['borrow_month'] = data['borrow_date'].dt.month\n",
    "data['borrow_day_of_week'] = data['borrow_date'].dt.dayofweek\n",
    "data['due_month'] = data['due_date'].dt.month\n",
    "data['due_day_of_week'] = data['due_date'].dt.dayofweek\n",
    "data['borrow_duration'] = (data['due_date'] - data['borrow_date']).dt.days\n",
    "\n"
   ]
  },
  {
   "cell_type": "code",
   "execution_count": 5,
   "id": "a774dafc-ccdc-4fea-9baa-2543a4988f97",
   "metadata": {},
   "outputs": [],
   "source": [
    "# Encoding Categorical Variables\n",
    "label_encoder = LabelEncoder()\n",
    "data['gender_encoded'] = label_encoder.fit_transform(data['gender'])\n",
    "\n",
    "# Selecting Features and Target\n",
    "features = ['gender_encoded', 'borrow_month', 'borrow_day_of_week', 'due_month', 'due_day_of_week', 'borrow_duration']\n",
    "X = data[features]\n",
    "y = data['return_status'] # Assuming 0 for not returned on time, 1 for returned on time\n",
    "\n"
   ]
  },
  {
   "cell_type": "code",
   "execution_count": 6,
   "id": "c05305dc-6b80-42c8-993d-f2ae95fb5954",
   "metadata": {},
   "outputs": [
    {
     "name": "stdout",
     "output_type": "stream",
     "text": [
      "X_train (800, 6)\n",
      "y_train (800,)\n",
      "X_test (200, 6)\n",
      "y_test (200,)\n"
     ]
    }
   ],
   "source": [
    "# Splitting Data\n",
    "X_train, X_test, y_train, y_test = train_test_split(X, y, test_size=0.2, random_state=42)\n",
    "\n",
    "print('X_train', X_train.shape)\n",
    "print('y_train', y_train.shape)\n",
    "\n",
    "# print dimension of test set\n",
    "print('X_test', X_test.shape)\n",
    "print('y_test', y_test.shape)"
   ]
  },
  {
   "cell_type": "code",
   "execution_count": 7,
   "id": "ffca88c4-2c9c-4e83-9062-016caf0f48b9",
   "metadata": {},
   "outputs": [
    {
     "name": "stdout",
     "output_type": "stream",
     "text": [
      "Accuracy: 0.58\n"
     ]
    },
    {
     "data": {
      "text/plain": [
       "['trained_random_forest_model.pkl']"
      ]
     },
     "execution_count": 7,
     "metadata": {},
     "output_type": "execute_result"
    }
   ],
   "source": [
    "from sklearn.model_selection import train_test_split\n",
    "from sklearn.ensemble import RandomForestClassifier\n",
    "from sklearn.metrics import accuracy_score\n",
    "import joblib\n",
    "# Assuming X_train, X_test, y_train, y_test are already defined from train_test_split\n",
    "\n",
    "# Create a Random Forest classifier\n",
    "forest_model = RandomForestClassifier(n_estimators=100, random_state=42)\n",
    "\n",
    "# Fit the model to the training data\n",
    "forest_model.fit(X_train, y_train)\n",
    "\n",
    "# Predict on the testing data\n",
    "predictions = forest_model.predict(X_test)\n",
    "\n",
    "# Calculate accuracy\n",
    "accuracy = accuracy_score(y_test, predictions)\n",
    "print(\"Accuracy:\", accuracy)\n",
    "\n",
    "joblib.dump(forest_model, 'trained_random_forest_model.pkl')\n"
   ]
  },
  {
   "cell_type": "code",
   "execution_count": null,
   "id": "3aa5d4e4-6b79-4201-948b-d95e55326c16",
   "metadata": {},
   "outputs": [],
   "source": []
  }
 ],
 "metadata": {
  "kernelspec": {
   "display_name": "Python 3 (ipykernel)",
   "language": "python",
   "name": "python3"
  },
  "language_info": {
   "codemirror_mode": {
    "name": "ipython",
    "version": 3
   },
   "file_extension": ".py",
   "mimetype": "text/x-python",
   "name": "python",
   "nbconvert_exporter": "python",
   "pygments_lexer": "ipython3",
   "version": "3.11.7"
  }
 },
 "nbformat": 4,
 "nbformat_minor": 5
}
